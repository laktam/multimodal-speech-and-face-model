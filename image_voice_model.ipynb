{
 "cells": [
  {
   "cell_type": "code",
   "execution_count": 126,
   "metadata": {},
   "outputs": [],
   "source": [
    "import os\n",
    "from os import listdir\n",
    "from PIL import Image\n",
    "from numpy import asarray\n",
    "from numpy import expand_dims\n",
    "from matplotlib import pyplot\n",
    "from keras.models import load_model\n",
    "import numpy as np\n",
    "from keras.models import Sequential\n",
    "from keras.layers import LSTM, Dense, Concatenate, Dropout, BatchNormalization\n",
    "import pickle\n",
    "import cv2\n",
    "import librosa\n",
    "from keras_facenet import FaceNet\n",
    "from keras.preprocessing.sequence import pad_sequences\n",
    "from sklearn.model_selection import train_test_split\n",
    "from keras.utils import to_categorical\n",
    "from sklearn.preprocessing import LabelEncoder\n",
    "\n",
    "\n"
   ]
  },
  {
   "cell_type": "markdown",
   "metadata": {},
   "source": [
    "### Define face model"
   ]
  },
  {
   "cell_type": "code",
   "execution_count": 127,
   "metadata": {},
   "outputs": [],
   "source": [
    "HaarCascade = cv2.CascadeClassifier(cv2.samples.findFile(cv2.data.haarcascades + 'haarcascade_frontalface_default.xml'))\n",
    "face_model = FaceNet()"
   ]
  },
  {
   "cell_type": "markdown",
   "metadata": {},
   "source": [
    "### Define speech model"
   ]
  },
  {
   "cell_type": "code",
   "execution_count": 128,
   "metadata": {},
   "outputs": [],
   "source": [
    "max_length = 100\n",
    "speech_model = load_model('speech_embedding_model.keras')"
   ]
  },
  {
   "cell_type": "markdown",
   "metadata": {},
   "source": [
    "### Combination"
   ]
  },
  {
   "cell_type": "code",
   "execution_count": 129,
   "metadata": {},
   "outputs": [
    {
     "name": "stderr",
     "output_type": "stream",
     "text": [
      "c:\\Users\\laktam\\AppData\\Local\\Programs\\Python\\Python311\\Lib\\site-packages\\keras\\src\\layers\\core\\dense.py:87: UserWarning: Do not pass an `input_shape`/`input_dim` argument to a layer. When using Sequential models, prefer using an `Input(shape)` object as the first layer in the model instead.\n",
      "  super().__init__(activity_regularizer=activity_regularizer, **kwargs)\n"
     ]
    }
   ],
   "source": [
    "\n",
    "# final_model = Sequential()\n",
    "\n",
    "# # ce model prend comme entree la concatenation des embeddings\n",
    "# final_model.add(Dense(64, activation='relu', input_shape=(640,))) # face net produice embedding of size 512 + 128 (speech embedding)\n",
    "# final_model.add(Dropout(0.8))\n",
    "# final_model.add(Dense(32, activation='relu'))\n",
    "# final_model.add(Dropout(0.7))\n",
    "# final_model.add(Dense(5, activation='softmax'))\n",
    "\n",
    "# final_model.compile(loss='categorical_crossentropy', optimizer='adam', metrics=['accuracy'])\n",
    "\n",
    "\n",
    "model = Sequential()\n",
    "\n",
    "# Input layer\n",
    "model.add(Dense(256, input_dim=640, activation='relu'))\n",
    "model.add(BatchNormalization())\n",
    "model.add(Dropout(0.83))\n",
    "\n",
    "# Hidden layers\n",
    "model.add(Dense(128, activation='relu'))\n",
    "model.add(BatchNormalization())\n",
    "model.add(Dropout(0.83))\n",
    "\n",
    "model.add(Dense(64, activation='relu'))\n",
    "model.add(BatchNormalization())\n",
    "model.add(Dropout(0.83))\n",
    "\n",
    "# Output layer\n",
    "# Adjust the units and activation function according to your prediction task\n",
    "model.add(Dense(5, activation='softmax'))  # For classification\n",
    "\n",
    "\n",
    "# Compile the model\n",
    "model.compile(optimizer='adam', loss='categorical_crossentropy', metrics=['accuracy'])\n",
    "\n",
    "# final_model.summary()"
   ]
  },
  {
   "cell_type": "markdown",
   "metadata": {},
   "source": [
    "### Creating pre-processing methods for image and audio data"
   ]
  },
  {
   "cell_type": "markdown",
   "metadata": {},
   "source": [
    "#### Image"
   ]
  },
  {
   "cell_type": "code",
   "execution_count": 130,
   "metadata": {},
   "outputs": [],
   "source": [
    "# cette method fait l'extraction de visage dans l'image (HaarCascade)\n",
    "def get_face_from_image(path):\n",
    "    gbr1 = cv2.imread(path)\n",
    "    \n",
    "    faces = HaarCascade.detectMultiScale(gbr1,1.1,4)\n",
    "    \n",
    "    if len(faces)>0:\n",
    "        x1, y1, width, height = faces[0]         \n",
    "    else:\n",
    "        x1, y1, width, height = 1, 1, 10, 10\n",
    "        \n",
    "    x1, y1 = abs(x1), abs(y1)\n",
    "    x2, y2 = x1 + width, y1 + height\n",
    "    \n",
    "    gbr = cv2.cvtColor(gbr1, cv2.COLOR_BGR2RGB)\n",
    "    gbr = Image.fromarray(gbr)                  # conversion from OpenCV to PIL\n",
    "    gbr_array = asarray(gbr)\n",
    "    \n",
    "    face = gbr_array[y1:y2, x1:x2]                        \n",
    "    \n",
    "    face = Image.fromarray(face)                       \n",
    "    face = face.resize((160,160))\n",
    "    face = asarray(face)\n",
    "    \n",
    "    # face = face.astype('float32')\n",
    "    # mean, std = face.mean(), face.std()\n",
    "    # face = (face - mean) / std\n",
    "    \n",
    "    face = expand_dims(face, axis=0)\n",
    "    return face"
   ]
  },
  {
   "cell_type": "markdown",
   "metadata": {},
   "source": [
    "#### Speech"
   ]
  },
  {
   "cell_type": "code",
   "execution_count": 131,
   "metadata": {},
   "outputs": [],
   "source": [
    "# extraction des features du speech (mfcc)\n",
    "def extract_features(file_path):\n",
    "    y, sr = librosa.load(file_path, sr=None)\n",
    "    mfcc = librosa.feature.mfcc(y=y, sr=sr, n_mfcc=13)# 13 = refers to the number of extracted features\n",
    "    return mfcc.T  # Transpose to have time steps first"
   ]
  },
  {
   "cell_type": "markdown",
   "metadata": {},
   "source": [
    "### Prepar trainning data"
   ]
  },
  {
   "cell_type": "code",
   "execution_count": 132,
   "metadata": {},
   "outputs": [],
   "source": [
    "# loop over speech data set\n",
    "# for each file in speech dataset\n",
    "# get the name\n",
    "# get the corespending image\n",
    "# pass the image and the audio to the two models (prepar audio (mfcc, padding))\n",
    "# create two lists (data, labels)\n",
    "# append the concatenated version to data and the name to labels\n",
    "\n",
    "\n",
    "# from sklearn.preprocessing import StandardScaler,MinMaxScaler\n",
    "# scaler = StandardScaler()\n",
    "\n",
    "# passer sur la dataset et generer les embeddings et les labels\n",
    "def extract_embeddings_and_labels(speech_dataset, image_dataset):\n",
    "    i = 0\n",
    "    embeddings = []\n",
    "    labels = []\n",
    "\n",
    "    for file_name in os.listdir(speech_dataset):\n",
    "        if file_name.endswith('.wav'):\n",
    "            print(i)\n",
    "            i = i+1\n",
    "            file_path = os.path.join(speech_dataset, file_name)\n",
    "            features = extract_features(file_path)\n",
    "            #padding\n",
    "            padded_features = pad_sequences([features], maxlen=max_length, padding='post', dtype='float32')\n",
    "            speech_embedding = speech_model.predict(padded_features)\n",
    "            # print(\"speech embedding \" , speech_embedding)\n",
    "            ## preparing face\n",
    "            # getting image name from speech filename\n",
    "            name = file_name.split('_')[0]\n",
    "            image_path = os.path.join(image_dataset, name + \".jpg\")\n",
    "            # print(\"image path \", image_path)\n",
    "            face = get_face_from_image(image_path)\n",
    "            face_embedding = face_model.embeddings(face)\n",
    "            # print(\"embedding of face \" ,name ,  face_embedding)\n",
    "            # concatenation\n",
    "\n",
    "            # Normalize embeddings\n",
    "            # face_embedding = scaler.fit_transform(face_embedding)\n",
    "            # speech_embedding = scaler.fit_transform(speech_embedding)\n",
    "\n",
    "\n",
    "            concatenated_embedding = np.concatenate((face_embedding[0], speech_embedding[0]))#, axis=1 axis was 0 !!!!!!!!!!!\n",
    "            embeddings.append(concatenated_embedding)\n",
    "            labels.append(name)\n",
    "            # because model take a numpy array\n",
    "            embeddings_array = np.array(embeddings)\n",
    "\n",
    "    return embeddings_array, labels"
   ]
  },
  {
   "cell_type": "code",
   "execution_count": 133,
   "metadata": {},
   "outputs": [],
   "source": [
    "# embeddings, labels = extract_embeddings_and_labels(\"speech_dataset\", \"image_dataset\")"
   ]
  },
  {
   "cell_type": "code",
   "execution_count": 134,
   "metadata": {},
   "outputs": [],
   "source": [
    "# # # save embeddings and labels\n",
    "# # with open('embeddings.pkl', 'wb') as f:\n",
    "# #     pickle.dump(embeddings, f)\n",
    "\n",
    "# # because pickle doesnt save embeddings as numpy array\n",
    "# np.save(\"embeddings.npy\", embeddings)\n",
    "\n",
    "\n",
    "# with open('labels.pkl', 'wb') as f:\n",
    "#     pickle.dump(labels, f)"
   ]
  },
  {
   "cell_type": "code",
   "execution_count": 135,
   "metadata": {},
   "outputs": [],
   "source": [
    "# load embeddins and labels\n",
    "# # with open('old_embeddings/embeddings.pkl', 'rb') as f:\n",
    "# #    embeddings = pickle.load(f)\n",
    "\n",
    "embeddings = np.load(\"embeddings.npy\")\n",
    "\n",
    "\n",
    "with open('old_embeddings/labels.pkl', 'rb') as f:\n",
    "    labels = pickle.load(f)\n",
    "\n",
    "# normalize embeddings\n",
    "\n",
    "\n",
    "train, test, labels_train, labels_test = train_test_split(\n",
    "    embeddings, labels, test_size=0.3, random_state=12 , stratify=labels\n",
    ")"
   ]
  },
  {
   "cell_type": "code",
   "execution_count": 136,
   "metadata": {},
   "outputs": [],
   "source": [
    "#Encodding \n",
    "label_encoder = LabelEncoder()\n",
    "encoded_labels_train = label_encoder.fit_transform(labels_train)\n",
    "\n",
    "# encoded_labels_test = label_encoder.fit_transform(labels_test)\n",
    "encoded_labels_test = label_encoder.transform(labels_test)\n",
    "\n",
    "labels_tain_one_hot = to_categorical(encoded_labels_train)\n",
    "labels_test_one_hot = to_categorical(encoded_labels_test)\n"
   ]
  },
  {
   "cell_type": "code",
   "execution_count": 137,
   "metadata": {},
   "outputs": [
    {
     "name": "stdout",
     "output_type": "stream",
     "text": [
      "Shape of train data: (1575, 640)\n",
      "Shape of labels: (1575, 5)\n",
      "Epoch 1/10\n",
      "\u001b[1m45/45\u001b[0m \u001b[32m━━━━━━━━━━━━━━━━━━━━\u001b[0m\u001b[37m\u001b[0m \u001b[1m5s\u001b[0m 16ms/step - accuracy: 0.2141 - loss: 3.6197 - val_accuracy: 0.7278 - val_loss: 1.2742\n",
      "Epoch 2/10\n",
      "\u001b[1m45/45\u001b[0m \u001b[32m━━━━━━━━━━━━━━━━━━━━\u001b[0m\u001b[37m\u001b[0m \u001b[1m0s\u001b[0m 5ms/step - accuracy: 0.3133 - loss: 2.4818 - val_accuracy: 0.9810 - val_loss: 0.9904\n",
      "Epoch 3/10\n",
      "\u001b[1m45/45\u001b[0m \u001b[32m━━━━━━━━━━━━━━━━━━━━\u001b[0m\u001b[37m\u001b[0m \u001b[1m0s\u001b[0m 6ms/step - accuracy: 0.3670 - loss: 2.1118 - val_accuracy: 0.9810 - val_loss: 0.7636\n",
      "Epoch 4/10\n",
      "\u001b[1m45/45\u001b[0m \u001b[32m━━━━━━━━━━━━━━━━━━━━\u001b[0m\u001b[37m\u001b[0m \u001b[1m0s\u001b[0m 6ms/step - accuracy: 0.4680 - loss: 1.5858 - val_accuracy: 0.9810 - val_loss: 0.5531\n",
      "Epoch 5/10\n",
      "\u001b[1m45/45\u001b[0m \u001b[32m━━━━━━━━━━━━━━━━━━━━\u001b[0m\u001b[37m\u001b[0m \u001b[1m0s\u001b[0m 6ms/step - accuracy: 0.4931 - loss: 1.4014 - val_accuracy: 0.9810 - val_loss: 0.3817\n",
      "Epoch 6/10\n",
      "\u001b[1m45/45\u001b[0m \u001b[32m━━━━━━━━━━━━━━━━━━━━\u001b[0m\u001b[37m\u001b[0m \u001b[1m0s\u001b[0m 6ms/step - accuracy: 0.5582 - loss: 1.1452 - val_accuracy: 0.9873 - val_loss: 0.2593\n",
      "Epoch 7/10\n",
      "\u001b[1m45/45\u001b[0m \u001b[32m━━━━━━━━━━━━━━━━━━━━\u001b[0m\u001b[37m\u001b[0m \u001b[1m0s\u001b[0m 6ms/step - accuracy: 0.5892 - loss: 1.0654 - val_accuracy: 0.9873 - val_loss: 0.1849\n",
      "Epoch 8/10\n",
      "\u001b[1m45/45\u001b[0m \u001b[32m━━━━━━━━━━━━━━━━━━━━\u001b[0m\u001b[37m\u001b[0m \u001b[1m0s\u001b[0m 6ms/step - accuracy: 0.6526 - loss: 0.9231 - val_accuracy: 0.9873 - val_loss: 0.1391\n",
      "Epoch 9/10\n",
      "\u001b[1m45/45\u001b[0m \u001b[32m━━━━━━━━━━━━━━━━━━━━\u001b[0m\u001b[37m\u001b[0m \u001b[1m0s\u001b[0m 6ms/step - accuracy: 0.6839 - loss: 0.8038 - val_accuracy: 0.9873 - val_loss: 0.1040\n",
      "Epoch 10/10\n",
      "\u001b[1m45/45\u001b[0m \u001b[32m━━━━━━━━━━━━━━━━━━━━\u001b[0m\u001b[37m\u001b[0m \u001b[1m0s\u001b[0m 6ms/step - accuracy: 0.7129 - loss: 0.7388 - val_accuracy: 0.9873 - val_loss: 0.0840\n"
     ]
    }
   ],
   "source": [
    "print(\"Shape of train data:\", train.shape)\n",
    "print(\"Shape of labels:\", labels_tain_one_hot.shape)\n",
    "history = model.fit(train, labels_tain_one_hot, epochs=10, batch_size=32,validation_split=0.1)\n"
   ]
  },
  {
   "cell_type": "code",
   "execution_count": 138,
   "metadata": {},
   "outputs": [
    {
     "name": "stdout",
     "output_type": "stream",
     "text": [
      "\u001b[1m22/22\u001b[0m \u001b[32m━━━━━━━━━━━━━━━━━━━━\u001b[0m\u001b[37m\u001b[0m \u001b[1m0s\u001b[0m 2ms/step - accuracy: 0.9912 - loss: 0.0846 \n",
      "Test Accuracy: 99.11%\n"
     ]
    }
   ],
   "source": [
    "# test_array = np.array(test)\n",
    "\n",
    "loss, accuracy = model.evaluate(test, labels_test_one_hot)\n",
    "print(f'Test Accuracy: {accuracy * 100:.2f}%')\n",
    "\n",
    "# normalisation + 0.5 0.5 dropout : Test Accuracy: 19.11%\n",
    "# without normalisation + 0.5 0.5 dropout : Test Accuracy: 99.78%\n",
    "# normalisation + no dropout : Test Accuracy: 19.11%"
   ]
  },
  {
   "cell_type": "code",
   "execution_count": 139,
   "metadata": {},
   "outputs": [
    {
     "data": {
      "image/png": "[encoded data removed]",
      "text/plain": [
       "<Figure size 640x480 with 1 Axes>"
      ]
     },
     "metadata": {},
     "output_type": "display_data"
    }
   ],
   "source": [
    "from matplotlib import pyplot\n",
    "pyplot.title('Learning Curves')\n",
    "pyplot.xlabel('Epochs')\n",
    "pyplot.ylabel('Cross Entropy')\n",
    "pyplot.plot(history.history['loss'], label='train')\n",
    "pyplot.plot(history.history['val_loss'], label='val')\n",
    "pyplot.legend()\n",
    "pyplot.show()"
   ]
  },
  {
   "cell_type": "code",
   "execution_count": 140,
   "metadata": {},
   "outputs": [],
   "source": [
    "def generate_concatenated_embedding(image_path, voice_path):\n",
    "    features = extract_features(voice_path)\n",
    "    #padding\n",
    "    padded_features = pad_sequences([features], maxlen=max_length, padding='post', dtype='float32')\n",
    "    speech_embedding = speech_model.predict(padded_features)\n",
    "\n",
    "    face = get_face_from_image(image_path)\n",
    "    face_embedding = face_model.embeddings(face)\n",
    "    # concatenation\n",
    "    concatenated_embedding = np.concatenate((face_embedding[0], speech_embedding[0]))\n",
    "    # returing a numpy array with one element to pass it directly to model\n",
    "    return np.array([concatenated_embedding])"
   ]
  },
  {
   "cell_type": "code",
   "execution_count": 141,
   "metadata": {},
   "outputs": [
    {
     "name": "stdout",
     "output_type": "stream",
     "text": [
      "\u001b[1m1/1\u001b[0m \u001b[32m━━━━━━━━━━━━━━━━━━━━\u001b[0m\u001b[37m\u001b[0m \u001b[1m0s\u001b[0m 209ms/step\n",
      "\u001b[1m1/1\u001b[0m \u001b[32m━━━━━━━━━━━━━━━━━━━━\u001b[0m\u001b[37m\u001b[0m \u001b[1m4s\u001b[0m 4s/step\n",
      "\u001b[1m1/1\u001b[0m \u001b[32m━━━━━━━━━━━━━━━━━━━━\u001b[0m\u001b[37m\u001b[0m \u001b[1m0s\u001b[0m 125ms/step\n",
      "gates\n",
      "94.63%\n",
      "0.96%\n",
      "0.55%\n",
      "3.23%\n",
      "0.63%\n",
      "\u001b[1m1/1\u001b[0m \u001b[32m━━━━━━━━━━━━━━━━━━━━\u001b[0m\u001b[37m\u001b[0m \u001b[1m0s\u001b[0m 31ms/step\n",
      "\u001b[1m1/1\u001b[0m \u001b[32m━━━━━━━━━━━━━━━━━━━━\u001b[0m\u001b[37m\u001b[0m \u001b[1m0s\u001b[0m 90ms/step\n",
      "\u001b[1m1/1\u001b[0m \u001b[32m━━━━━━━━━━━━━━━━━━━━\u001b[0m\u001b[37m\u001b[0m \u001b[1m0s\u001b[0m 16ms/step\n",
      "trump\n",
      "1.38%\n",
      "0.68%\n",
      "2.72%\n",
      "1.93%\n",
      "93.30%\n",
      "\u001b[1m1/1\u001b[0m \u001b[32m━━━━━━━━━━━━━━━━━━━━\u001b[0m\u001b[37m\u001b[0m \u001b[1m0s\u001b[0m 31ms/step\n",
      "\u001b[1m1/1\u001b[0m \u001b[32m━━━━━━━━━━━━━━━━━━━━\u001b[0m\u001b[37m\u001b[0m \u001b[1m0s\u001b[0m 78ms/step\n",
      "\u001b[1m1/1\u001b[0m \u001b[32m━━━━━━━━━━━━━━━━━━━━\u001b[0m\u001b[37m\u001b[0m \u001b[1m0s\u001b[0m 16ms/step\n",
      "sam\n",
      "2.69%\n",
      "1.40%\n",
      "0.95%\n",
      "92.85%\n",
      "2.10%\n",
      "\u001b[1m1/1\u001b[0m \u001b[32m━━━━━━━━━━━━━━━━━━━━\u001b[0m\u001b[37m\u001b[0m \u001b[1m0s\u001b[0m 31ms/step\n",
      "\u001b[1m1/1\u001b[0m \u001b[32m━━━━━━━━━━━━━━━━━━━━\u001b[0m\u001b[37m\u001b[0m \u001b[1m0s\u001b[0m 94ms/step\n",
      "\u001b[1m1/1\u001b[0m \u001b[32m━━━━━━━━━━━━━━━━━━━━\u001b[0m\u001b[37m\u001b[0m \u001b[1m0s\u001b[0m 16ms/step\n",
      "mark\n",
      "4.64%\n",
      "56.87%\n",
      "31.23%\n",
      "3.28%\n",
      "3.98%\n"
     ]
    },
    {
     "data": {
      "text/plain": [
       "array([ 4.6369996, 56.872185 , 31.230417 ,  3.277231 ,  3.9831724],\n",
       "      dtype=float32)"
      ]
     },
     "execution_count": 141,
     "metadata": {},
     "output_type": "execute_result"
    }
   ],
   "source": [
    "embedding = generate_concatenated_embedding('extra_test_files/gates.jpeg','speech_dataset/gates_0_03_1.wav')# 'extra_test_files/0_12_9.wav'\n",
    "predictions = model.predict(embedding)\n",
    "decoded_labels= label_encoder.inverse_transform(np.argmax(predictions, axis=1))\n",
    "print(decoded_labels[0])\n",
    "ps = predictions[0] * 100 \n",
    "for p in ps:\n",
    "    print(f'{p:.2f}%')\n",
    "ps\n",
    "\n",
    "##############\n",
    "\n",
    "\n",
    "embedding = generate_concatenated_embedding('extra_test_files/trump.jpeg','speech_dataset/trump_2_05_36.wav')\n",
    "predictions = model.predict(embedding)\n",
    "decoded_labels= label_encoder.inverse_transform(np.argmax(predictions, axis=1))\n",
    "print(decoded_labels[0])\n",
    "ps = predictions[0] * 100 \n",
    "for p in ps:\n",
    "    print(f'{p:.2f}%')\n",
    "ps\n",
    "##########################\n",
    "embedding = generate_concatenated_embedding('extra_test_files/sam2.jpg','D:/MQL/S2/ML/Projet Image, Audio/speech_recognition/test_data/sam_9_04_0.wav')\n",
    "predictions = model.predict(embedding)\n",
    "decoded_labels= label_encoder.inverse_transform(np.argmax(predictions, axis=1))\n",
    "print(decoded_labels[0])\n",
    "ps = predictions[0] * 100 \n",
    "for p in ps:\n",
    "    print(f'{p:.2f}%')\n",
    "ps\n",
    "###############\n",
    "\n",
    "# unknown\n",
    "embedding = generate_concatenated_embedding('extra_test_files/tim.jpeg','extra_test_files/0_12_9.wav')# \n",
    "predictions = model.predict(embedding)\n",
    "decoded_labels= label_encoder.inverse_transform(np.argmax(predictions, axis=1))\n",
    "print(decoded_labels[0])\n",
    "\n",
    "# predictions = final_model.predict(test_array)\n",
    "# # predictions = predictions * 100\n",
    "ps = predictions[0] * 100 \n",
    "for p in ps:\n",
    "    print(f'{p:.2f}%')\n",
    "ps\n",
    "\n"
   ]
  },
  {
   "cell_type": "code",
   "execution_count": 142,
   "metadata": {},
   "outputs": [],
   "source": [
    "def identify_person(predictions, threshold=0.9, unknown_label=\"unknown\"):\n",
    "    max_prob = max(predictions[0])\n",
    "    print(max_prob)\n",
    "    # max_index = np.argmax(predictions)\n",
    "    decoded_labels= label_encoder.inverse_transform(np.argmax(predictions, axis=1))\n",
    "   \n",
    "    if max_prob >= threshold:\n",
    "        # Person identified with high confidence\n",
    "        return decoded_labels[0]\n",
    "    else:\n",
    "        # Confidence below threshold, person is unknown\n",
    "        return unknown_label"
   ]
  },
  {
   "cell_type": "code",
   "execution_count": 143,
   "metadata": {},
   "outputs": [
    {
     "name": "stdout",
     "output_type": "stream",
     "text": [
      "\u001b[1m1/1\u001b[0m \u001b[32m━━━━━━━━━━━━━━━━━━━━\u001b[0m\u001b[37m\u001b[0m \u001b[1m0s\u001b[0m 45ms/step\n",
      "\u001b[1m1/1\u001b[0m \u001b[32m━━━━━━━━━━━━━━━━━━━━\u001b[0m\u001b[37m\u001b[0m \u001b[1m0s\u001b[0m 62ms/step\n",
      "\u001b[1m1/1\u001b[0m \u001b[32m━━━━━━━━━━━━━━━━━━━━\u001b[0m\u001b[37m\u001b[0m \u001b[1m0s\u001b[0m 16ms/step\n",
      "0.9463318\n",
      "gates\n",
      "\u001b[1m1/1\u001b[0m \u001b[32m━━━━━━━━━━━━━━━━━━━━\u001b[0m\u001b[37m\u001b[0m \u001b[1m0s\u001b[0m 31ms/step\n",
      "\u001b[1m1/1\u001b[0m \u001b[32m━━━━━━━━━━━━━━━━━━━━\u001b[0m\u001b[37m\u001b[0m \u001b[1m0s\u001b[0m 94ms/step\n",
      "\u001b[1m1/1\u001b[0m \u001b[32m━━━━━━━━━━━━━━━━━━━━\u001b[0m\u001b[37m\u001b[0m \u001b[1m0s\u001b[0m 31ms/step\n",
      "0.93295854\n",
      "trump\n",
      "\u001b[1m1/1\u001b[0m \u001b[32m━━━━━━━━━━━━━━━━━━━━\u001b[0m\u001b[37m\u001b[0m \u001b[1m0s\u001b[0m 31ms/step\n",
      "\u001b[1m1/1\u001b[0m \u001b[32m━━━━━━━━━━━━━━━━━━━━\u001b[0m\u001b[37m\u001b[0m \u001b[1m0s\u001b[0m 94ms/step\n",
      "\u001b[1m1/1\u001b[0m \u001b[32m━━━━━━━━━━━━━━━━━━━━\u001b[0m\u001b[37m\u001b[0m \u001b[1m0s\u001b[0m 16ms/step\n",
      "0.9285465\n",
      "sam\n",
      "\u001b[1m1/1\u001b[0m \u001b[32m━━━━━━━━━━━━━━━━━━━━\u001b[0m\u001b[37m\u001b[0m \u001b[1m0s\u001b[0m 31ms/step\n",
      "\u001b[1m1/1\u001b[0m \u001b[32m━━━━━━━━━━━━━━━━━━━━\u001b[0m\u001b[37m\u001b[0m \u001b[1m0s\u001b[0m 78ms/step\n",
      "\u001b[1m1/1\u001b[0m \u001b[32m━━━━━━━━━━━━━━━━━━━━\u001b[0m\u001b[37m\u001b[0m \u001b[1m0s\u001b[0m 31ms/step\n",
      "0.62373877\n",
      "unknown\n",
      "\u001b[1m1/1\u001b[0m \u001b[32m━━━━━━━━━━━━━━━━━━━━\u001b[0m\u001b[37m\u001b[0m \u001b[1m0s\u001b[0m 31ms/step\n",
      "\u001b[1m1/1\u001b[0m \u001b[32m━━━━━━━━━━━━━━━━━━━━\u001b[0m\u001b[37m\u001b[0m \u001b[1m0s\u001b[0m 94ms/step\n",
      "\u001b[1m1/1\u001b[0m \u001b[32m━━━━━━━━━━━━━━━━━━━━\u001b[0m\u001b[37m\u001b[0m \u001b[1m0s\u001b[0m 31ms/step\n",
      "0.56872183\n",
      "unknown\n"
     ]
    }
   ],
   "source": [
    "embedding = generate_concatenated_embedding('extra_test_files/gates.jpeg','speech_dataset/gates_0_03_1.wav')# 'extra_test_files/0_12_9.wav'\n",
    "predictions = model.predict(embedding)\n",
    "print(identify_person(predictions))\n",
    "##############\n",
    "embedding = generate_concatenated_embedding('extra_test_files/trump.jpeg','speech_dataset/trump_2_05_36.wav')\n",
    "predictions = model.predict(embedding)\n",
    "print(identify_person(predictions))\n",
    "##########################\n",
    "embedding = generate_concatenated_embedding('extra_test_files/sam2.jpg','D:/MQL/S2/ML/Projet Image, Audio/speech_recognition/test_data/sam_9_04_0.wav')\n",
    "predictions = model.predict(embedding)\n",
    "print(identify_person(predictions))\n",
    "###############\n",
    "\n",
    "# unknown\n",
    "embedding = generate_concatenated_embedding('extra_test_files/mkbhd.jpg','extra_test_files/0_12_9.wav')# \n",
    "predictions = model.predict(embedding)\n",
    "print(identify_person(predictions))\n",
    "\n",
    "embedding = generate_concatenated_embedding('extra_test_files/tim.jpeg','extra_test_files/0_12_9.wav')# \n",
    "predictions = model.predict(embedding)\n",
    "print(identify_person(predictions))\n"
   ]
  },
  {
   "cell_type": "code",
   "execution_count": 144,
   "metadata": {},
   "outputs": [
    {
     "name": "stderr",
     "output_type": "stream",
     "text": [
      "WARNING:absl:You are saving your model as an HDF5 file via `model.save()` or `keras.saving.save_model(model)`. This file format is considered legacy. We recommend using instead the native Keras format, e.g. `model.save('my_model.keras')` or `keras.saving.save_model(model, 'my_model.keras')`. \n"
     ]
    }
   ],
   "source": [
    "# save model\n",
    "model.save('final_model.h5')\n",
    "model.save('final_model.keras')\n"
   ]
  },
  {
   "cell_type": "code",
   "execution_count": 145,
   "metadata": {},
   "outputs": [
    {
     "data": {
      "text/plain": [
       "['label_encoder.pkl']"
      ]
     },
     "execution_count": 145,
     "metadata": {},
     "output_type": "execute_result"
    }
   ],
   "source": [
    "# Save the label encoder\n",
    "import joblib\n",
    "joblib.dump(label_encoder, 'label_encoder.pkl')"
   ]
  }
 ],
 "metadata": {
  "kernelspec": {
   "display_name": "Python 3",
   "language": "python",
   "name": "python3"
  },
  "language_info": {
   "codemirror_mode": {
    "name": "ipython",
    "version": 3
   },
   "file_extension": ".py",
   "mimetype": "text/x-python",
   "name": "python",
   "nbconvert_exporter": "python",
   "pygments_lexer": "ipython3",
   "version": "3.11.8"
  }
 },
 "nbformat": 4,
 "nbformat_minor": 2
}
