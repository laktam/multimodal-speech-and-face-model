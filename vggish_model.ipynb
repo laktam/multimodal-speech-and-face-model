{
 "cells": [
  {
   "cell_type": "code",
   "execution_count": null,
   "metadata": {},
   "outputs": [],
   "source": [
    "import numpy as np\n",
    "import tensorflow as tf\n",
    "from vggish_keras import VGGish\n",
    "\n",
    "# Instantiate the VGGish model\n",
    "vggish_model = VGGish()"
   ]
  }
 ],
 "metadata": {
  "language_info": {
   "name": "python"
  }
 },
 "nbformat": 4,
 "nbformat_minor": 2
}
